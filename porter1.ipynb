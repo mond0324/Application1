{
  "nbformat": 4,
  "nbformat_minor": 0,
  "metadata": {
    "colab": {
      "name": "porter.ipynb",
      "provenance": [],
      "authorship_tag": "ABX9TyPdbsIWu6PcifDUHrqBPfCd",
      "include_colab_link": true
    },
    "kernelspec": {
      "name": "python3",
      "display_name": "Python 3"
    },
    "language_info": {
      "name": "python"
    }
  },
  "cells": [
    {
      "cell_type": "markdown",
      "metadata": {
        "id": "view-in-github",
        "colab_type": "text"
      },
      "source": [
        "<a href=\"https://colab.research.google.com/github/mond0324/Application1/blob/master/porter1.ipynb\" target=\"_parent\"><img src=\"https://colab.research.google.com/assets/colab-badge.svg\" alt=\"Open In Colab\"/></a>"
      ]
    },
    {
      "cell_type": "code",
      "execution_count": 1,
      "metadata": {
        "id": "Z-UfBeRzbigU"
      },
      "outputs": [],
      "source": [
        "import re"
      ]
    },
    {
      "cell_type": "code",
      "source": [
        "text = ['generalizations']"
      ],
      "metadata": {
        "id": "NMzRrxvNcIyV"
      },
      "execution_count": 8,
      "outputs": []
    },
    {
      "cell_type": "code",
      "source": [
        "stems = [\n",
        "         re.sub(r's', '', word) \n",
        "    for word in text\n",
        "]"
      ],
      "metadata": {
        "id": "28QehcDOgPDX"
      },
      "execution_count": 9,
      "outputs": []
    },
    {
      "cell_type": "code",
      "source": [
        "stems2 = [\n",
        "         re.sub(r'ization', '', word) \n",
        "    for word in stems\n",
        "]"
      ],
      "metadata": {
        "id": "FgPiuoqJf0in"
      },
      "execution_count": 10,
      "outputs": []
    },
    {
      "cell_type": "code",
      "source": [
        "print(stems2)"
      ],
      "metadata": {
        "colab": {
          "base_uri": "https://localhost:8080/"
        },
        "id": "b4tabaMdgFdv",
        "outputId": "8f599f60-b141-4d2b-94c2-8b2b305ae1ed"
      },
      "execution_count": 11,
      "outputs": [
        {
          "output_type": "stream",
          "name": "stdout",
          "text": [
            "['general']\n"
          ]
        }
      ]
    }
  ]
}